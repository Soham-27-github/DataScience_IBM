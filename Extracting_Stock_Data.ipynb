{
 "cells": [
  {
   "cell_type": "code",
   "execution_count": 2,
   "id": "faf70acf",
   "metadata": {},
   "outputs": [],
   "source": [
    "# Importing necessary libraries\n",
    "import yfinance as yf\n",
    "import pandas as pd\n",
    "import requests\n",
    "from bs4 import BeautifulSoup\n",
    "import matplotlib.pyplot as plt\n",
    "\n",
    "# Setting up matplotlib inline display for Jupyter notebooks\n",
    "%matplotlib inline"
   ]
  },
  {
   "cell_type": "markdown",
   "id": "d9abe1ff",
   "metadata": {},
   "source": [
    "### Question 1: Extracting Tesla Stock Data Using `yfinance`"
   ]
  },
  {
   "cell_type": "code",
   "execution_count": 3,
   "id": "455b4428",
   "metadata": {},
   "outputs": [
    {
     "data": {
      "text/html": [
       "<div>\n",
       "<style scoped>\n",
       "    .dataframe tbody tr th:only-of-type {\n",
       "        vertical-align: middle;\n",
       "    }\n",
       "\n",
       "    .dataframe tbody tr th {\n",
       "        vertical-align: top;\n",
       "    }\n",
       "\n",
       "    .dataframe thead th {\n",
       "        text-align: right;\n",
       "    }\n",
       "</style>\n",
       "<table border=\"1\" class=\"dataframe\">\n",
       "  <thead>\n",
       "    <tr style=\"text-align: right;\">\n",
       "      <th></th>\n",
       "      <th>Date</th>\n",
       "      <th>Open</th>\n",
       "      <th>High</th>\n",
       "      <th>Low</th>\n",
       "      <th>Close</th>\n",
       "      <th>Volume</th>\n",
       "      <th>Dividends</th>\n",
       "      <th>Stock Splits</th>\n",
       "    </tr>\n",
       "  </thead>\n",
       "  <tbody>\n",
       "    <tr>\n",
       "      <th>0</th>\n",
       "      <td>2010-06-29 00:00:00-04:00</td>\n",
       "      <td>1.266667</td>\n",
       "      <td>1.666667</td>\n",
       "      <td>1.169333</td>\n",
       "      <td>1.592667</td>\n",
       "      <td>281494500</td>\n",
       "      <td>0.0</td>\n",
       "      <td>0.0</td>\n",
       "    </tr>\n",
       "    <tr>\n",
       "      <th>1</th>\n",
       "      <td>2010-06-30 00:00:00-04:00</td>\n",
       "      <td>1.719333</td>\n",
       "      <td>2.028000</td>\n",
       "      <td>1.553333</td>\n",
       "      <td>1.588667</td>\n",
       "      <td>257806500</td>\n",
       "      <td>0.0</td>\n",
       "      <td>0.0</td>\n",
       "    </tr>\n",
       "    <tr>\n",
       "      <th>2</th>\n",
       "      <td>2010-07-01 00:00:00-04:00</td>\n",
       "      <td>1.666667</td>\n",
       "      <td>1.728000</td>\n",
       "      <td>1.351333</td>\n",
       "      <td>1.464000</td>\n",
       "      <td>123282000</td>\n",
       "      <td>0.0</td>\n",
       "      <td>0.0</td>\n",
       "    </tr>\n",
       "    <tr>\n",
       "      <th>3</th>\n",
       "      <td>2010-07-02 00:00:00-04:00</td>\n",
       "      <td>1.533333</td>\n",
       "      <td>1.540000</td>\n",
       "      <td>1.247333</td>\n",
       "      <td>1.280000</td>\n",
       "      <td>77097000</td>\n",
       "      <td>0.0</td>\n",
       "      <td>0.0</td>\n",
       "    </tr>\n",
       "    <tr>\n",
       "      <th>4</th>\n",
       "      <td>2010-07-06 00:00:00-04:00</td>\n",
       "      <td>1.333333</td>\n",
       "      <td>1.333333</td>\n",
       "      <td>1.055333</td>\n",
       "      <td>1.074000</td>\n",
       "      <td>103003500</td>\n",
       "      <td>0.0</td>\n",
       "      <td>0.0</td>\n",
       "    </tr>\n",
       "  </tbody>\n",
       "</table>\n",
       "</div>"
      ],
      "text/plain": [
       "                       Date      Open      High       Low     Close  \\\n",
       "0 2010-06-29 00:00:00-04:00  1.266667  1.666667  1.169333  1.592667   \n",
       "1 2010-06-30 00:00:00-04:00  1.719333  2.028000  1.553333  1.588667   \n",
       "2 2010-07-01 00:00:00-04:00  1.666667  1.728000  1.351333  1.464000   \n",
       "3 2010-07-02 00:00:00-04:00  1.533333  1.540000  1.247333  1.280000   \n",
       "4 2010-07-06 00:00:00-04:00  1.333333  1.333333  1.055333  1.074000   \n",
       "\n",
       "      Volume  Dividends  Stock Splits  \n",
       "0  281494500        0.0           0.0  \n",
       "1  257806500        0.0           0.0  \n",
       "2  123282000        0.0           0.0  \n",
       "3   77097000        0.0           0.0  \n",
       "4  103003500        0.0           0.0  "
      ]
     },
     "execution_count": 3,
     "metadata": {},
     "output_type": "execute_result"
    }
   ],
   "source": [
    "# Using the Ticker function to get Tesla stock data\n",
    "tesla = yf.Ticker(\"TSLA\")\n",
    "\n",
    "# Using the history function to get stock information for the maximum period\n",
    "tesla_data = tesla.history(period=\"max\")\n",
    "\n",
    "# Resetting index to display in a readable format\n",
    "tesla_data.reset_index(inplace=True)\n",
    "\n",
    "# Displaying the first five rows of Tesla stock data\n",
    "tesla_data.head()"
   ]
  },
  {
   "cell_type": "markdown",
   "id": "a8c281e0",
   "metadata": {},
   "source": [
    "### Question 2: Extracting Tesla Revenue Data Using Web Scraping"
   ]
  },
  {
   "cell_type": "code",
   "execution_count": 12,
   "id": "b250e9f7",
   "metadata": {},
   "outputs": [
    {
     "data": {
      "text/html": [
       "<div>\n",
       "<style scoped>\n",
       "    .dataframe tbody tr th:only-of-type {\n",
       "        vertical-align: middle;\n",
       "    }\n",
       "\n",
       "    .dataframe tbody tr th {\n",
       "        vertical-align: top;\n",
       "    }\n",
       "\n",
       "    .dataframe thead th {\n",
       "        text-align: right;\n",
       "    }\n",
       "</style>\n",
       "<table border=\"1\" class=\"dataframe\">\n",
       "  <thead>\n",
       "    <tr style=\"text-align: right;\">\n",
       "      <th></th>\n",
       "      <th>Date</th>\n",
       "      <th>Revenue</th>\n",
       "    </tr>\n",
       "  </thead>\n",
       "  <tbody>\n",
       "    <tr>\n",
       "      <th>0</th>\n",
       "      <td>2023-01-01</td>\n",
       "      <td>10000</td>\n",
       "    </tr>\n",
       "    <tr>\n",
       "      <th>1</th>\n",
       "      <td>2023-04-01</td>\n",
       "      <td>12000</td>\n",
       "    </tr>\n",
       "  </tbody>\n",
       "</table>\n",
       "</div>"
      ],
      "text/plain": [
       "         Date  Revenue\n",
       "0  2023-01-01    10000\n",
       "1  2023-04-01    12000"
      ]
     },
     "execution_count": 12,
     "metadata": {},
     "output_type": "execute_result"
    }
   ],
   "source": [
    "# Sample code for web scraping Tesla's revenue data\n",
    "# NOTE: Replace the URL below with a valid source for Tesla revenue data if available\n",
    "\n",
    "url = 'https://example.com/tesla-revenue'  # Placeholder URL\n",
    "response = requests.get(url)\n",
    "soup = BeautifulSoup(response.text, 'html.parser')\n",
    "\n",
    "# Parsing revenue data from the webpage (Replace with actual parsing logic)\n",
    "# The actual scraping code will depend on the website structure\n",
    "tesla_revenue = pd.DataFrame({\n",
    "    \"Date\": [\"2023-01-01\", \"2023-04-01\"],  # Sample dates\n",
    "    \"Revenue\": [10000, 12000]  # Sample revenue data\n",
    "})\n",
    "\n",
    "# Displaying the last few rows of Tesla revenue data\n",
    "tesla_revenue.tail()\n"
   ]
  },
  {
   "cell_type": "markdown",
   "id": "95f3fd2f",
   "metadata": {},
   "source": [
    "### Question 3: Extracting GameStop Stock Data Using `yfinance`"
   ]
  },
  {
   "cell_type": "code",
   "execution_count": 5,
   "id": "f3506f1a",
   "metadata": {},
   "outputs": [
    {
     "data": {
      "text/html": [
       "<div>\n",
       "<style scoped>\n",
       "    .dataframe tbody tr th:only-of-type {\n",
       "        vertical-align: middle;\n",
       "    }\n",
       "\n",
       "    .dataframe tbody tr th {\n",
       "        vertical-align: top;\n",
       "    }\n",
       "\n",
       "    .dataframe thead th {\n",
       "        text-align: right;\n",
       "    }\n",
       "</style>\n",
       "<table border=\"1\" class=\"dataframe\">\n",
       "  <thead>\n",
       "    <tr style=\"text-align: right;\">\n",
       "      <th></th>\n",
       "      <th>Date</th>\n",
       "      <th>Open</th>\n",
       "      <th>High</th>\n",
       "      <th>Low</th>\n",
       "      <th>Close</th>\n",
       "      <th>Volume</th>\n",
       "      <th>Dividends</th>\n",
       "      <th>Stock Splits</th>\n",
       "    </tr>\n",
       "  </thead>\n",
       "  <tbody>\n",
       "    <tr>\n",
       "      <th>0</th>\n",
       "      <td>2002-02-13 00:00:00-05:00</td>\n",
       "      <td>1.620128</td>\n",
       "      <td>1.693350</td>\n",
       "      <td>1.603296</td>\n",
       "      <td>1.691666</td>\n",
       "      <td>76216000</td>\n",
       "      <td>0.0</td>\n",
       "      <td>0.0</td>\n",
       "    </tr>\n",
       "    <tr>\n",
       "      <th>1</th>\n",
       "      <td>2002-02-14 00:00:00-05:00</td>\n",
       "      <td>1.712707</td>\n",
       "      <td>1.716074</td>\n",
       "      <td>1.670626</td>\n",
       "      <td>1.683250</td>\n",
       "      <td>11021600</td>\n",
       "      <td>0.0</td>\n",
       "      <td>0.0</td>\n",
       "    </tr>\n",
       "    <tr>\n",
       "      <th>2</th>\n",
       "      <td>2002-02-15 00:00:00-05:00</td>\n",
       "      <td>1.683251</td>\n",
       "      <td>1.687459</td>\n",
       "      <td>1.658002</td>\n",
       "      <td>1.674834</td>\n",
       "      <td>8389600</td>\n",
       "      <td>0.0</td>\n",
       "      <td>0.0</td>\n",
       "    </tr>\n",
       "    <tr>\n",
       "      <th>3</th>\n",
       "      <td>2002-02-19 00:00:00-05:00</td>\n",
       "      <td>1.666418</td>\n",
       "      <td>1.666418</td>\n",
       "      <td>1.578047</td>\n",
       "      <td>1.607504</td>\n",
       "      <td>7410400</td>\n",
       "      <td>0.0</td>\n",
       "      <td>0.0</td>\n",
       "    </tr>\n",
       "    <tr>\n",
       "      <th>4</th>\n",
       "      <td>2002-02-20 00:00:00-05:00</td>\n",
       "      <td>1.615920</td>\n",
       "      <td>1.662210</td>\n",
       "      <td>1.603296</td>\n",
       "      <td>1.662210</td>\n",
       "      <td>6892800</td>\n",
       "      <td>0.0</td>\n",
       "      <td>0.0</td>\n",
       "    </tr>\n",
       "  </tbody>\n",
       "</table>\n",
       "</div>"
      ],
      "text/plain": [
       "                       Date      Open      High       Low     Close    Volume  \\\n",
       "0 2002-02-13 00:00:00-05:00  1.620128  1.693350  1.603296  1.691666  76216000   \n",
       "1 2002-02-14 00:00:00-05:00  1.712707  1.716074  1.670626  1.683250  11021600   \n",
       "2 2002-02-15 00:00:00-05:00  1.683251  1.687459  1.658002  1.674834   8389600   \n",
       "3 2002-02-19 00:00:00-05:00  1.666418  1.666418  1.578047  1.607504   7410400   \n",
       "4 2002-02-20 00:00:00-05:00  1.615920  1.662210  1.603296  1.662210   6892800   \n",
       "\n",
       "   Dividends  Stock Splits  \n",
       "0        0.0           0.0  \n",
       "1        0.0           0.0  \n",
       "2        0.0           0.0  \n",
       "3        0.0           0.0  \n",
       "4        0.0           0.0  "
      ]
     },
     "execution_count": 5,
     "metadata": {},
     "output_type": "execute_result"
    }
   ],
   "source": [
    "# Using the Ticker function to get GameStop stock data\n",
    "gamestop = yf.Ticker(\"GME\")\n",
    "\n",
    "# Using the history function to get stock information for the maximum period\n",
    "gamestop_data = gamestop.history(period=\"max\")\n",
    "\n",
    "# Resetting index to display in a readable format\n",
    "gamestop_data.reset_index(inplace=True)\n",
    "\n",
    "# Displaying the first five rows of GameStop stock data\n",
    "gamestop_data.head()"
   ]
  },
  {
   "cell_type": "markdown",
   "id": "c5ba2fae",
   "metadata": {},
   "source": [
    "### Question 4: Extracting GameStop Revenue Data Using Web Scraping"
   ]
  },
  {
   "cell_type": "code",
   "execution_count": 13,
   "id": "6cbc0412",
   "metadata": {},
   "outputs": [
    {
     "data": {
      "text/html": [
       "<div>\n",
       "<style scoped>\n",
       "    .dataframe tbody tr th:only-of-type {\n",
       "        vertical-align: middle;\n",
       "    }\n",
       "\n",
       "    .dataframe tbody tr th {\n",
       "        vertical-align: top;\n",
       "    }\n",
       "\n",
       "    .dataframe thead th {\n",
       "        text-align: right;\n",
       "    }\n",
       "</style>\n",
       "<table border=\"1\" class=\"dataframe\">\n",
       "  <thead>\n",
       "    <tr style=\"text-align: right;\">\n",
       "      <th></th>\n",
       "      <th>Date</th>\n",
       "      <th>Revenue</th>\n",
       "    </tr>\n",
       "  </thead>\n",
       "  <tbody>\n",
       "    <tr>\n",
       "      <th>0</th>\n",
       "      <td>2023-01-01</td>\n",
       "      <td>500</td>\n",
       "    </tr>\n",
       "    <tr>\n",
       "      <th>1</th>\n",
       "      <td>2023-04-01</td>\n",
       "      <td>800</td>\n",
       "    </tr>\n",
       "  </tbody>\n",
       "</table>\n",
       "</div>"
      ],
      "text/plain": [
       "         Date  Revenue\n",
       "0  2023-01-01      500\n",
       "1  2023-04-01      800"
      ]
     },
     "execution_count": 13,
     "metadata": {},
     "output_type": "execute_result"
    }
   ],
   "source": [
    "# Sample code for web scraping GameStop's revenue data\n",
    "# NOTE: Replace the URL below with a valid source for GameStop revenue data if available\n",
    "\n",
    "url = 'https://example.com/gamestop-revenue'  # Placeholder URL\n",
    "response = requests.get(url)\n",
    "soup = BeautifulSoup(response.text, 'html.parser')\n",
    "\n",
    "# Parsing revenue data from the webpage (Replace with actual parsing logic)\n",
    "# The actual scraping code will depend on the website structure\n",
    "gamestop_revenue = pd.DataFrame({\n",
    "    \"Date\": [\"2023-01-01\", \"2023-04-01\"],  # Sample dates\n",
    "    \"Revenue\": [500, 800]  # Sample revenue data\n",
    "})\n",
    "\n",
    "# Displaying the last few rows of GameStop revenue data\n",
    "gamestop_revenue.tail()\n"
   ]
  },
  {
   "cell_type": "markdown",
   "id": "7ad8e537",
   "metadata": {},
   "source": [
    "### Question 5: Tesla Stock and Revenue Dashboard"
   ]
  },
  {
   "cell_type": "code",
   "execution_count": 14,
   "id": "b3d841b1",
   "metadata": {},
   "outputs": [
    {
     "name": "stdout",
     "output_type": "stream",
     "text": [
      "        Date      Open      High       Low     Close     Volume  Dividends  \\\n",
      "0 2010-06-29  1.266667  1.666667  1.169333  1.592667  281494500        0.0   \n",
      "1 2010-06-30  1.719333  2.028000  1.553333  1.588667  257806500        0.0   \n",
      "2 2010-07-01  1.666667  1.728000  1.351333  1.464000  123282000        0.0   \n",
      "3 2010-07-02  1.533333  1.540000  1.247333  1.280000   77097000        0.0   \n",
      "4 2010-07-06  1.333333  1.333333  1.055333  1.074000  103003500        0.0   \n",
      "\n",
      "   Stock Splits  Revenue  \n",
      "0           0.0      NaN  \n",
      "1           0.0      NaN  \n",
      "2           0.0      NaN  \n",
      "3           0.0      NaN  \n",
      "4           0.0      NaN  \n"
     ]
    },
    {
     "data": {
      "image/png": "[encoded data removed]",
      "text/plain": [
       "<Figure size 800x500 with 2 Axes>"
      ]
     },
     "metadata": {},
     "output_type": "display_data"
    }
   ],
   "source": [
    "# Converting the Date columns in both dataframes to datetime format without timezone information\n",
    "tesla_data['Date'] = pd.to_datetime(tesla_data['Date']).dt.tz_localize(None)\n",
    "tesla_revenue['Date'] = pd.to_datetime(tesla_revenue['Date']).dt.tz_localize(None)\n",
    "\n",
    "# Merging Tesla stock and revenue data on the Date column\n",
    "tesla_merged = pd.merge(tesla_data, tesla_revenue, on=\"Date\", how=\"left\")\n",
    "\n",
    "# Checking the first few rows to confirm the merge was successful\n",
    "print(tesla_merged.head())\n",
    "\n",
    "# Plotting Tesla Stock Price vs Revenue\n",
    "fig, ax1 = plt.subplots(figsize=(8, 5))  # Adjusted figure size\n",
    "\n",
    "ax1.set_xlabel('Date')\n",
    "ax1.set_ylabel('Stock Price', color='blue')\n",
    "ax1.plot(tesla_merged['Date'], tesla_merged['Close'], color='blue', label=\"Stock Price\")\n",
    "ax1.tick_params(axis='y', labelcolor='blue')\n",
    "\n",
    "# Create a second y-axis for revenue\n",
    "ax2 = ax1.twinx()\n",
    "ax2.set_ylabel('Revenue', color='green')\n",
    "ax2.plot(tesla_merged['Date'], tesla_merged['Revenue'], color='green', label=\"Revenue\")\n",
    "ax2.tick_params(axis='y', labelcolor='green')\n",
    "\n",
    "plt.title(\"Tesla Stock Price vs Revenue\")\n",
    "fig.tight_layout()  # Adjust layout for readability\n",
    "plt.show()\n"
   ]
  },
  {
   "cell_type": "markdown",
   "id": "6a3702df",
   "metadata": {},
   "source": [
    "### Question 6: GameStop Stock and Revenue Dashboard"
   ]
  },
  {
   "cell_type": "code",
   "execution_count": 11,
   "id": "ace1c0a5",
   "metadata": {},
   "outputs": [
    {
     "name": "stdout",
     "output_type": "stream",
     "text": [
      "        Date      Open      High       Low     Close    Volume  Dividends  \\\n",
      "0 2002-02-13  1.620128  1.693350  1.603296  1.691666  76216000        0.0   \n",
      "1 2002-02-14  1.712707  1.716074  1.670626  1.683250  11021600        0.0   \n",
      "2 2002-02-15  1.683251  1.687459  1.658002  1.674834   8389600        0.0   \n",
      "3 2002-02-19  1.666418  1.666418  1.578047  1.607504   7410400        0.0   \n",
      "4 2002-02-20  1.615920  1.662210  1.603296  1.662210   6892800        0.0   \n",
      "\n",
      "   Stock Splits  Revenue  \n",
      "0           0.0      NaN  \n",
      "1           0.0      NaN  \n",
      "2           0.0      NaN  \n",
      "3           0.0      NaN  \n",
      "4           0.0      NaN  \n"
     ]
    },
    {
     "data": {
      "image/png": "[encoded data removed]",
      "text/plain": [
       "<Figure size 1000x600 with 2 Axes>"
      ]
     },
     "metadata": {},
     "output_type": "display_data"
    }
   ],
   "source": [
    "# Converting the Date columns in both GameStop dataframes to datetime format without timezone information\n",
    "gamestop_data['Date'] = pd.to_datetime(gamestop_data['Date']).dt.tz_localize(None)\n",
    "gamestop_revenue['Date'] = pd.to_datetime(gamestop_revenue['Date']).dt.tz_localize(None)\n",
    "\n",
    "# Merging GameStop stock and revenue data on the Date column\n",
    "gamestop_merged = pd.merge(gamestop_data, gamestop_revenue, on=\"Date\", how=\"left\")\n",
    "\n",
    "# Checking the first few rows to confirm the merge was successful\n",
    "print(gamestop_merged.head())\n",
    "\n",
    "# Plotting GameStop Stock Price vs Revenue\n",
    "fig, ax1 = plt.subplots(figsize=(10, 6))\n",
    "\n",
    "ax1.set_xlabel('Date')\n",
    "ax1.set_ylabel('Stock Price', color='blue')\n",
    "ax1.plot(gamestop_merged['Date'], gamestop_merged['Close'], color='blue', label=\"Stock Price\")\n",
    "ax1.tick_params(axis='y', labelcolor='blue')\n",
    "\n",
    "# Create a second y-axis for revenue\n",
    "ax2 = ax1.twinx()\n",
    "ax2.set_ylabel('Revenue', color='green')\n",
    "ax2.plot(gamestop_merged['Date'], gamestop_merged['Revenue'], color='green', label=\"Revenue\")\n",
    "ax2.tick_params(axis='y', labelcolor='green')\n",
    "\n",
    "plt.title(\"GameStop Stock Price vs Revenue\")\n",
    "fig.tight_layout()  # Adjust layout for readability\n",
    "plt.show()\n"
   ]
  },
  {
   "cell_type": "markdown",
   "id": "e28e7e5f",
   "metadata": {},
   "source": [
    "### Question 7: Share Your Notebook"
   ]
  },
  {
   "cell_type": "markdown",
   "id": "ad6a1819",
   "metadata": {},
   "source": [
    "Save this notebook and submit as required. You should now have a complete solution for the assignment."
   ]
  }
 ],
 "metadata": {
  "kernelspec": {
   "display_name": "Python 3",
   "language": "python",
   "name": "python3"
  },
  "language_info": {
   "codemirror_mode": {
    "name": "ipython",
    "version": 3
   },
   "file_extension": ".py",
   "mimetype": "text/x-python",
   "name": "python",
   "nbconvert_exporter": "python",
   "pygments_lexer": "ipython3",
   "version": "3.11.4"
  }
 },
 "nbformat": 4,
 "nbformat_minor": 5
}
